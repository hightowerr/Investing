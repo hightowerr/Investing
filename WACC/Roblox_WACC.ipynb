{
 "cells": [
  {
   "cell_type": "code",
   "execution_count": 1,
   "id": "5bac4fe0",
   "metadata": {},
   "outputs": [],
   "source": [
    "import pandas_datareader.data as web\n",
    "import requests\n",
    "import config"
   ]
  },
  {
   "cell_type": "code",
   "execution_count": 2,
   "id": "b6789d08",
   "metadata": {},
   "outputs": [],
   "source": [
    "company = 'ROBLOX'\n",
    "ticker = 'RBLX'\n",
    "api = config.fmp_api_key"
   ]
  },
  {
   "cell_type": "code",
   "execution_count": 3,
   "id": "1301ccbf",
   "metadata": {},
   "outputs": [],
   "source": [
    "#ROBLOX EXAMPLE\n",
    "roblox_bs = requests.get(f'https://financialmodelingprep.com/api/v3/balance-sheet-statement/{ticker}?apikey={api}').json()\n",
    "roblox_is = requests.get(f'https://financialmodelingprep.com/api/v3/income-statement/{ticker}?apikey={api}').json()\n",
    "roblox_mc = requests.get(f'https://financialmodelingprep.com/api/v3/market-capitalization/{ticker}?apikey={api}').json()"
   ]
  },
  {
   "cell_type": "markdown",
   "id": "a1dc709b",
   "metadata": {},
   "source": [
    "### Market Equity of Value"
   ]
  },
  {
   "cell_type": "code",
   "execution_count": 4,
   "id": "52d049d0",
   "metadata": {},
   "outputs": [
    {
     "name": "stdout",
     "output_type": "stream",
     "text": [
      "Market value of equity for ROBLOX is 26441558016.00 billion\n"
     ]
    }
   ],
   "source": [
    "mkt_value_of_equity = roblox_mc[0]['marketCap']\n",
    "print(\"Market value of equity for %s is %.02f billion\" % (company, mkt_value_of_equity))"
   ]
  },
  {
   "cell_type": "code",
   "execution_count": 5,
   "id": "d35aa67e",
   "metadata": {},
   "outputs": [
    {
     "name": "stdout",
     "output_type": "stream",
     "text": [
      "Total debt for ROBLOX is 1182339000.00 billion\n"
     ]
    }
   ],
   "source": [
    "def total_book_debt(current_portion_LT_debt, long_term_Debt, notes_payable):\n",
    "    \"\"\"\n",
    "    Calculate the total debt based off balance sheet data, current_portion_LT_debt, long_term_Debt and notes_payable.\n",
    "    \"\"\"\n",
    "    return current_portion_LT_debt + long_term_Debt + notes_payable\n",
    "\n",
    "# ROBLOX EXAMPLE\n",
    "cltd = 0\n",
    "ld = roblox_bs[0]['longTermDebt']\n",
    "np = 0\n",
    "\n",
    "total_book_debt = total_book_debt(cltd, ld, np)\n",
    "print(\"Total debt for %s is %.02f billion\" % (company, total_book_debt))"
   ]
  },
  {
   "cell_type": "code",
   "execution_count": 6,
   "id": "2d91193d",
   "metadata": {},
   "outputs": [
    {
     "name": "stdout",
     "output_type": "stream",
     "text": [
      "Market value of debt for ROBLOX is 588326743.72 million\n"
     ]
    }
   ],
   "source": [
    "def mv_debt_by_average_maturity(average_maturity, cost_of_debt, total_book_debt, interest_expense):\n",
    "    \"\"\"\n",
    "    Calculate the market value of debt based off financial statement data, cost of debt, and average maturity.\n",
    "    \"\"\"\n",
    "    coupon_rate = interest_expense / total_book_debt\n",
    "    principal = total_book_debt\n",
    "    coupon_payment = coupon_rate * principal\n",
    "    \n",
    "    return coupon_payment * ((1 - (1 + cost_of_debt)**(-average_maturity))/cost_of_debt) + principal/(1 + cost_of_debt)**average_maturity\n",
    "\n",
    "# ROBLOX EXAMPLE\n",
    "interest_expense = 6998000.0\n",
    "cost_of_debt = 0.159\n",
    "average_maturity = 5\n",
    "\n",
    "mkt_value_of_debt = mv_debt_by_average_maturity(average_maturity, cost_of_debt, total_book_debt, interest_expense)\n",
    "print(\"Market value of debt for %s is %.02f million\" % (company, mkt_value_of_debt))"
   ]
  },
  {
   "cell_type": "code",
   "execution_count": 7,
   "id": "507269ca",
   "metadata": {},
   "outputs": [],
   "source": [
    "def capital_weights(total_debt, common_stock):\n",
    "    \"\"\"\n",
    "    Summary: Given a firm's capital structure, calculate the weights of each group.\n",
    "    \n",
    "    PARA total_capital: The company's total capital.\n",
    "    PARA type: float\n",
    "    \n",
    "    PARA common_stock: The company's common stock outstanding.\n",
    "    PARA type: float\n",
    "    \n",
    "    PARA total_debt: The company's total debt.\n",
    "    PARA type: float\n",
    "    \n",
    "    RTYP weights_dict: A dictionary of all the weights. \n",
    "    RTYP weights_dict: dictionary\n",
    "    \n",
    "    \"\"\"      \n",
    "    # initalize the dictionary\n",
    "    weights_dict = {}\n",
    "    \n",
    "    # calculate the total capital\n",
    "    total_capital = common_stock + total_debt\n",
    "    \n",
    "    # calculate each weight and store it in the dictionary\n",
    "    weights_dict['common_stock'] = common_stock / total_capital\n",
    "    weights_dict['total_debt'] = total_debt / total_capital\n",
    "    \n",
    "    return weights_dict\n",
    "\n",
    "weights = capital_weights(mkt_value_of_debt, mkt_value_of_equity)"
   ]
  },
  {
   "cell_type": "code",
   "execution_count": 8,
   "id": "ed23f25a",
   "metadata": {},
   "outputs": [
    {
     "name": "stdout",
     "output_type": "stream",
     "text": [
      "Weighted Cost of Capital for ROBLOX is 0.0651\n"
     ]
    }
   ],
   "source": [
    "def weighted_average_cost_of_capital(cost_of_common, cost_of_debt, marginal_tax, weights_dict):\n",
    "    \"\"\"\n",
    "    Summary: Calculate a firm's WACC.\n",
    "    \n",
    "    PARA cost_of_common: The firm's cost of common equity.\n",
    "    PARA type: float\n",
    "    \n",
    "    PARA cost_of_debt: The firm's cost of debt.\n",
    "    PARA type: float\n",
    "    \n",
    "    PARA marginal_tax: The firm's tax rate on an additional dollar of income.\n",
    "    PARA type: float\n",
    "    \n",
    "    PARA weights_dict: The capital weights for each capital structure.\n",
    "    PARA type: dictionary\n",
    "    \n",
    "    \"\"\"    \n",
    "    \n",
    "    weight_debt = weights_dict['total_debt']\n",
    "    weight_common = weights_dict['common_stock']\n",
    "    tax = 1 - marginal_tax\n",
    "    adj_cost_debt = cost_of_debt * tax\n",
    "    \n",
    "    return (weight_common * cost_of_common) + (adj_cost_debt * weight_debt)\n",
    "\n",
    "# ROBLOX EXAMPLE\n",
    "cost_equity = 0.064\n",
    "marginal_tax = 0.27 # The tax rate for the last dollar of income\n",
    "\n",
    "wacc = weighted_average_cost_of_capital(cost_equity, cost_of_debt, marginal_tax, weights)\n",
    "print(\"Weighted Cost of Capital for %s is %.04f\" % (company, wacc))"
   ]
  }
 ],
 "metadata": {
  "kernelspec": {
   "display_name": "Python 3 (ipykernel)",
   "language": "python",
   "name": "python3"
  },
  "language_info": {
   "codemirror_mode": {
    "name": "ipython",
    "version": 3
   },
   "file_extension": ".py",
   "mimetype": "text/x-python",
   "name": "python",
   "nbconvert_exporter": "python",
   "pygments_lexer": "ipython3",
   "version": "3.9.7"
  }
 },
 "nbformat": 4,
 "nbformat_minor": 5
}
