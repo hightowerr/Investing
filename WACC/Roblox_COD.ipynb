{
 "cells": [
  {
   "cell_type": "code",
   "execution_count": 1,
   "metadata": {},
   "outputs": [],
   "source": [
    "import pandas_datareader.data as web\n",
    "import requests\n",
    "import config"
   ]
  },
  {
   "cell_type": "code",
   "execution_count": 2,
   "metadata": {},
   "outputs": [],
   "source": [
    "company = 'ROBLOX'\n",
    "ticker = 'RBLX'\n",
    "api = config.fmp_api_key"
   ]
  },
  {
   "cell_type": "markdown",
   "metadata": {},
   "source": [
    "## Risk Free rate"
   ]
  },
  {
   "cell_type": "code",
   "execution_count": 3,
   "metadata": {},
   "outputs": [
    {
     "name": "stdout",
     "output_type": "stream",
     "text": [
      "5-year historical average US Treasury rate is 0.016\n"
     ]
    }
   ],
   "source": [
    "start = 2017\n",
    "end = 2022\n",
    "\n",
    "periods_per_year = 1\n",
    "# Load historical 5-year Treasury rate:\n",
    "treasury_5yr_monthly = (web.DataReader('DGS5', 'fred', start, end)\n",
    "                         .resample('M')\n",
    "                         .last()\n",
    "                         .div(periods_per_year)\n",
    "                         .div(100)\n",
    "                         .squeeze())\n",
    "\n",
    "riskfree_rate = treasury_5yr_monthly.mean()\n",
    "print(\"5-year historical average US Treasury rate is %.03f\" % (riskfree_rate))"
   ]
  },
  {
   "cell_type": "markdown",
   "metadata": {},
   "source": [
    "## Company Default Risk"
   ]
  },
  {
   "cell_type": "code",
   "execution_count": 4,
   "metadata": {},
   "outputs": [
    {
     "data": {
      "text/plain": [
       "-69.30165761646185"
      ]
     },
     "execution_count": 4,
     "metadata": {},
     "output_type": "execute_result"
    }
   ],
   "source": [
    "def interest_coverage(symbol):\n",
    "  IS= requests.get(f'https://financialmodelingprep.com/api/v3/income-statement/{symbol}?apikey={api}').json()\n",
    "  EBIT= IS[0]['ebitda'] - IS[0]['depreciationAndAmortization'] \n",
    "  interest_expense = IS[0]['interestExpense']\n",
    "  interest_coverage_ratio = EBIT / interest_expense\n",
    "  return interest_coverage_ratio\n",
    "\n",
    "int_cov_ratio = interest_coverage(ticker); int_cov_ratio"
   ]
  },
  {
   "cell_type": "markdown",
   "metadata": {},
   "source": [
    "## Aswath Damodaran Synthetic rating\n",
    "- Adapted from https://codingandfun.com/calculating-weighted-average-cost-of-capital-wacc-with-python/ \n",
    "- Using updated figures found here (https://people.stern.nyu.edu/adamodar/New_Home_Page/datafile/ratings.html)"
   ]
  },
  {
   "cell_type": "code",
   "execution_count": 5,
   "metadata": {},
   "outputs": [],
   "source": [
    "def cost_of_debt(company, RF,interest_coverage_ratio):\n",
    "  if interest_coverage_ratio > 12.5:\n",
    "    #Rating is AAA\n",
    "    credit_spread = 0.0067\n",
    "  if (interest_coverage_ratio > 9.5) & (interest_coverage_ratio <= 12.499999):\n",
    "    #Rating is AA\n",
    "    credit_spread = 0.0082\n",
    "  if (interest_coverage_ratio > 7.5) & (interest_coverage_ratio <=  9.499999):\n",
    "    #Rating is A+\n",
    "    credit_spread = 0.0103\n",
    "  if (interest_coverage_ratio > 6) & (interest_coverage_ratio <=  7.499999):\n",
    "    #Rating is A\n",
    "    credit_spread = 0.0114\n",
    "  if (interest_coverage_ratio > 4.5) & (interest_coverage_ratio <=  5.999999):\n",
    "    #Rating is A-\n",
    "    credit_spread = 0.0129\n",
    "  if (interest_coverage_ratio > 4) & (interest_coverage_ratio <=  4.499999):\n",
    "    #Rating is BBB\n",
    "    credit_spread = 0.0159\n",
    "  if (interest_coverage_ratio > 3.5) & (interest_coverage_ratio <=  3.999999):\n",
    "    #Rating is BB+\n",
    "    credit_spread = 0.0193\n",
    "  if (interest_coverage_ratio > 3) & (interest_coverage_ratio <=  3.499999):\n",
    "    #Rating is BB\n",
    "    credit_spread = 0.0215\n",
    "  if (interest_coverage_ratio > 2.5) & (interest_coverage_ratio <=  2.999999):\n",
    "    #Rating is B+\n",
    "    credit_spread = 0.0315\n",
    "  if (interest_coverage_ratio > 2) & (interest_coverage_ratio <=  2.499999):\n",
    "    #Rating is B\n",
    "    credit_spread = 0.0378\n",
    "  if (interest_coverage_ratio > 1.5) & (interest_coverage_ratio <=  1.999999):\n",
    "    #Rating is B-\n",
    "    credit_spread = 0.0462\n",
    "  if (interest_coverage_ratio > 1.25) & (interest_coverage_ratio <=  1.499999):\n",
    "    #Rating is CCC\n",
    "    credit_spread = 0.0778\n",
    "  if (interest_coverage_ratio > 0.8) & (interest_coverage_ratio <=  1.249999):\n",
    "    #Rating is CC\n",
    "    credit_spread = 0.0880\n",
    "  if (interest_coverage_ratio > 0.5) & (interest_coverage_ratio <=  0.799999):\n",
    "    #Rating is C\n",
    "    credit_spread = 0.1076\n",
    "  if interest_coverage_ratio <=  0.499999:\n",
    "    #Rating is D\n",
    "    credit_spread = 0.1434\n",
    "  \n",
    "  cost_of_debt = RF + credit_spread\n",
    "  #print(cost_of_debt)\n",
    "  return cost_of_debt"
   ]
  },
  {
   "cell_type": "markdown",
   "metadata": {},
   "source": [
    "## Cost of debt"
   ]
  },
  {
   "cell_type": "code",
   "execution_count": 6,
   "metadata": {},
   "outputs": [
    {
     "name": "stdout",
     "output_type": "stream",
     "text": [
      "Pre-tax cost of debt (borrowing) for ROBLOX is 0.159\n"
     ]
    }
   ],
   "source": [
    "cost_debt = cost_of_debt(company,riskfree_rate,int_cov_ratio); cost_debt\n",
    "print(\"Pre-tax cost of debt (borrowing) for %s is %.03f\" % (company, cost_debt))"
   ]
  }
 ],
 "metadata": {
  "interpreter": {
   "hash": "91143ec5fea195877b0dc7583fff5b88021b643bf3071e79cd291bf67ada7127"
  },
  "kernelspec": {
   "display_name": "Python 3.9.7",
   "language": "python",
   "name": "python3"
  },
  "language_info": {
   "codemirror_mode": {
    "name": "ipython",
    "version": 3
   },
   "file_extension": ".py",
   "mimetype": "text/x-python",
   "name": "python",
   "nbconvert_exporter": "python",
   "pygments_lexer": "ipython3",
   "version": "3.9.7"
  },
  "orig_nbformat": 4
 },
 "nbformat": 4,
 "nbformat_minor": 2
}
